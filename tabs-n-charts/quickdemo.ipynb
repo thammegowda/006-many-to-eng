{
 "cells": [
  {
   "cell_type": "markdown",
   "id": "a731b171",
   "metadata": {},
   "source": [
    "# Demo: Many-to-English Model, And Tools For Buildng It.\n",
    "\n"
   ]
  },
  {
   "cell_type": "code",
   "execution_count": null,
   "id": "98b9ef2d",
   "metadata": {},
   "outputs": [],
   "source": [
    "# Conda environment\n",
    "conda create -n rtgdemo python=3.7 jupyterlab \n",
    "conda activate rtgdemo\n",
    "# jupyter lab  # this notebook was created this way"
   ]
  },
  {
   "cell_type": "markdown",
   "id": "30702d87",
   "metadata": {},
   "source": [
    "# Tools: installation\n",
    "\n",
    "* https://pypi.org/project/mtdata/\n",
    "* https://pypi.org/project/nlcodec/\n",
    "* https://pypi.org/project/rtg/"
   ]
  },
  {
   "cell_type": "code",
   "execution_count": 30,
   "id": "31afe063",
   "metadata": {},
   "outputs": [
    {
     "name": "stdout",
     "output_type": "stream",
     "text": [
      "Requirement already satisfied: mtdata in /Users/tg/miniconda3/envs/rtgdemo/lib/python3.7/site-packages (0.2.8)\n",
      "Requirement already satisfied: nlcodec in /Users/tg/miniconda3/envs/rtgdemo/lib/python3.7/site-packages (0.3.1)\n",
      "Requirement already satisfied: rtg in /Users/tg/miniconda3/envs/rtgdemo/lib/python3.7/site-packages (0.5.0)\n",
      "Requirement already satisfied: portalocker in /Users/tg/miniconda3/envs/rtgdemo/lib/python3.7/site-packages (from mtdata) (2.0.0)\n",
      "Requirement already satisfied: wget in /Users/tg/miniconda3/envs/rtgdemo/lib/python3.7/site-packages (from mtdata) (3.2)\n",
      "Requirement already satisfied: tqdm in /Users/tg/miniconda3/envs/rtgdemo/lib/python3.7/site-packages (from nlcodec) (4.60.0)\n",
      "Requirement already satisfied: numpy in /Users/tg/miniconda3/envs/rtgdemo/lib/python3.7/site-packages (from nlcodec) (1.20.2)\n",
      "Requirement already satisfied: sentencepiece>=0.1.85 in /Users/tg/miniconda3/envs/rtgdemo/lib/python3.7/site-packages (from rtg) (0.1.95)\n",
      "Requirement already satisfied: tensorboard>=2.2.1 in /Users/tg/miniconda3/envs/rtgdemo/lib/python3.7/site-packages (from rtg) (2.4.1)\n",
      "Requirement already satisfied: sacrebleu>=1.4.14 in /Users/tg/miniconda3/envs/rtgdemo/lib/python3.7/site-packages (from rtg) (1.5.1)\n",
      "Requirement already satisfied: mosestokenizer>=1.0.0 in /Users/tg/miniconda3/envs/rtgdemo/lib/python3.7/site-packages (from rtg) (1.1.0)\n",
      "Requirement already satisfied: ruamel.yaml>=0.16.10 in /Users/tg/miniconda3/envs/rtgdemo/lib/python3.7/site-packages (from rtg) (0.17.4)\n",
      "Requirement already satisfied: sacremoses-xt>=0.0.44 in /Users/tg/miniconda3/envs/rtgdemo/lib/python3.7/site-packages (from rtg) (0.0.44)\n",
      "Requirement already satisfied: torch>=1.6.0 in /Users/tg/miniconda3/envs/rtgdemo/lib/python3.7/site-packages (from rtg) (1.8.1)\n",
      "Requirement already satisfied: openfile in /Users/tg/miniconda3/envs/rtgdemo/lib/python3.7/site-packages (from mosestokenizer>=1.0.0->rtg) (0.0.7)\n",
      "Requirement already satisfied: docopt in /Users/tg/miniconda3/envs/rtgdemo/lib/python3.7/site-packages (from mosestokenizer>=1.0.0->rtg) (0.6.2)\n",
      "Requirement already satisfied: toolwrapper in /Users/tg/miniconda3/envs/rtgdemo/lib/python3.7/site-packages (from mosestokenizer>=1.0.0->rtg) (2.1.0)\n",
      "Requirement already satisfied: uctools in /Users/tg/miniconda3/envs/rtgdemo/lib/python3.7/site-packages (from mosestokenizer>=1.0.0->rtg) (1.3.0)\n",
      "Requirement already satisfied: ruamel.yaml.clib>=0.1.2 in /Users/tg/miniconda3/envs/rtgdemo/lib/python3.7/site-packages (from ruamel.yaml>=0.16.10->rtg) (0.2.2)\n",
      "Requirement already satisfied: regex in /Users/tg/miniconda3/envs/rtgdemo/lib/python3.7/site-packages (from sacremoses-xt>=0.0.44->rtg) (2021.4.4)\n",
      "Requirement already satisfied: click in /Users/tg/miniconda3/envs/rtgdemo/lib/python3.7/site-packages (from sacremoses-xt>=0.0.44->rtg) (7.1.2)\n",
      "Requirement already satisfied: joblib in /Users/tg/miniconda3/envs/rtgdemo/lib/python3.7/site-packages (from sacremoses-xt>=0.0.44->rtg) (1.0.1)\n",
      "Requirement already satisfied: six in /Users/tg/miniconda3/envs/rtgdemo/lib/python3.7/site-packages (from sacremoses-xt>=0.0.44->rtg) (1.15.0)\n",
      "Requirement already satisfied: grpcio>=1.24.3 in /Users/tg/miniconda3/envs/rtgdemo/lib/python3.7/site-packages (from tensorboard>=2.2.1->rtg) (1.37.0)\n",
      "Requirement already satisfied: google-auth<2,>=1.6.3 in /Users/tg/miniconda3/envs/rtgdemo/lib/python3.7/site-packages (from tensorboard>=2.2.1->rtg) (1.29.0)\n",
      "Requirement already satisfied: setuptools>=41.0.0 in /Users/tg/miniconda3/envs/rtgdemo/lib/python3.7/site-packages (from tensorboard>=2.2.1->rtg) (52.0.0.post20210125)\n",
      "Requirement already satisfied: tensorboard-plugin-wit>=1.6.0 in /Users/tg/miniconda3/envs/rtgdemo/lib/python3.7/site-packages (from tensorboard>=2.2.1->rtg) (1.8.0)\n",
      "Requirement already satisfied: werkzeug>=0.11.15 in /Users/tg/miniconda3/envs/rtgdemo/lib/python3.7/site-packages (from tensorboard>=2.2.1->rtg) (1.0.1)\n",
      "Requirement already satisfied: wheel>=0.26 in /Users/tg/miniconda3/envs/rtgdemo/lib/python3.7/site-packages (from tensorboard>=2.2.1->rtg) (0.36.2)\n",
      "Requirement already satisfied: absl-py>=0.4 in /Users/tg/miniconda3/envs/rtgdemo/lib/python3.7/site-packages (from tensorboard>=2.2.1->rtg) (0.12.0)\n",
      "Requirement already satisfied: requests<3,>=2.21.0 in /Users/tg/miniconda3/envs/rtgdemo/lib/python3.7/site-packages (from tensorboard>=2.2.1->rtg) (2.25.1)\n",
      "Requirement already satisfied: google-auth-oauthlib<0.5,>=0.4.1 in /Users/tg/miniconda3/envs/rtgdemo/lib/python3.7/site-packages (from tensorboard>=2.2.1->rtg) (0.4.4)\n",
      "Requirement already satisfied: markdown>=2.6.8 in /Users/tg/miniconda3/envs/rtgdemo/lib/python3.7/site-packages (from tensorboard>=2.2.1->rtg) (3.3.4)\n",
      "Requirement already satisfied: protobuf>=3.6.0 in /Users/tg/miniconda3/envs/rtgdemo/lib/python3.7/site-packages (from tensorboard>=2.2.1->rtg) (3.15.8)\n",
      "Requirement already satisfied: pyasn1-modules>=0.2.1 in /Users/tg/miniconda3/envs/rtgdemo/lib/python3.7/site-packages (from google-auth<2,>=1.6.3->tensorboard>=2.2.1->rtg) (0.2.8)\n",
      "Requirement already satisfied: cachetools<5.0,>=2.0.0 in /Users/tg/miniconda3/envs/rtgdemo/lib/python3.7/site-packages (from google-auth<2,>=1.6.3->tensorboard>=2.2.1->rtg) (4.2.1)\n",
      "Requirement already satisfied: rsa<5,>=3.1.4 in /Users/tg/miniconda3/envs/rtgdemo/lib/python3.7/site-packages (from google-auth<2,>=1.6.3->tensorboard>=2.2.1->rtg) (4.7.2)\n",
      "Requirement already satisfied: requests-oauthlib>=0.7.0 in /Users/tg/miniconda3/envs/rtgdemo/lib/python3.7/site-packages (from google-auth-oauthlib<0.5,>=0.4.1->tensorboard>=2.2.1->rtg) (1.3.0)\n",
      "Requirement already satisfied: importlib-metadata in /Users/tg/miniconda3/envs/rtgdemo/lib/python3.7/site-packages (from markdown>=2.6.8->tensorboard>=2.2.1->rtg) (3.10.0)\n",
      "Requirement already satisfied: pyasn1<0.5.0,>=0.4.6 in /Users/tg/miniconda3/envs/rtgdemo/lib/python3.7/site-packages (from pyasn1-modules>=0.2.1->google-auth<2,>=1.6.3->tensorboard>=2.2.1->rtg) (0.4.8)\n",
      "Requirement already satisfied: idna<3,>=2.5 in /Users/tg/miniconda3/envs/rtgdemo/lib/python3.7/site-packages (from requests<3,>=2.21.0->tensorboard>=2.2.1->rtg) (2.10)\n",
      "Requirement already satisfied: certifi>=2017.4.17 in /Users/tg/miniconda3/envs/rtgdemo/lib/python3.7/site-packages (from requests<3,>=2.21.0->tensorboard>=2.2.1->rtg) (2020.12.5)\n",
      "Requirement already satisfied: chardet<5,>=3.0.2 in /Users/tg/miniconda3/envs/rtgdemo/lib/python3.7/site-packages (from requests<3,>=2.21.0->tensorboard>=2.2.1->rtg) (4.0.0)\n",
      "Requirement already satisfied: urllib3<1.27,>=1.21.1 in /Users/tg/miniconda3/envs/rtgdemo/lib/python3.7/site-packages (from requests<3,>=2.21.0->tensorboard>=2.2.1->rtg) (1.26.4)\n",
      "Requirement already satisfied: oauthlib>=3.0.0 in /Users/tg/miniconda3/envs/rtgdemo/lib/python3.7/site-packages (from requests-oauthlib>=0.7.0->google-auth-oauthlib<0.5,>=0.4.1->tensorboard>=2.2.1->rtg) (3.1.0)\n",
      "Requirement already satisfied: typing-extensions in /Users/tg/miniconda3/envs/rtgdemo/lib/python3.7/site-packages (from torch>=1.6.0->rtg) (3.7.4.3)\n",
      "Requirement already satisfied: zipp>=0.5 in /Users/tg/miniconda3/envs/rtgdemo/lib/python3.7/site-packages (from importlib-metadata->markdown>=2.6.8->tensorboard>=2.2.1->rtg) (3.4.1)\n",
      "Note: you may need to restart the kernel to use updated packages.\n"
     ]
    }
   ],
   "source": [
    "pip install mtdata nlcodec rtg "
   ]
  },
  {
   "cell_type": "markdown",
   "id": "6a5ef117",
   "metadata": {},
   "source": [
    "-----\n",
    "# Mtdata: List All Datasets"
   ]
  },
  {
   "cell_type": "code",
   "execution_count": 6,
   "id": "41d72806",
   "metadata": {},
   "outputs": [
    {
     "name": "stdout",
     "output_type": "stream",
     "text": [
      "INFO:root:Loaded entries: Statmt.org:355  Paracrawl:59  Tilde:519  JoshuaIndianCoprus:29  GlobalVoices:812  UnitedNations:30  OPUS:53,321  OPUS_JW300:44,663  OPUS100:302  WikiMatrix:1,617  Other:7  Neulab_TEDTalksv1:4,455  Total:106,169\n",
      "INFO:root:Found 106169\n",
      "  106170\n"
     ]
    }
   ],
   "source": [
    "!mtdata list | wc -l"
   ]
  },
  {
   "cell_type": "markdown",
   "id": "e2873958",
   "metadata": {},
   "source": [
    "# Mtdata: List Datasets for a Specific Language Pair"
   ]
  },
  {
   "cell_type": "code",
   "execution_count": 1,
   "id": "b445bc6d",
   "metadata": {},
   "outputs": [
    {
     "name": "stdout",
     "output_type": "stream",
     "text": [
      "INFO:root:Loaded entries: Statmt.org:355  Paracrawl:59  Tilde:519  JoshuaIndianCoprus:29  GlobalVoices:812  UnitedNations:30  OPUS:53,321  OPUS_JW300:44,663  OPUS100:302  WikiMatrix:1,617  Other:7  Neulab_TEDTalksv1:4,455  Total:106,169\n",
      "INFO:root:Found 11\n",
      "pmindia_v1\teng-kan\thttp://data.statmt.org/pmindia/v1/parallel/pmindia.v1.kn-en.tsv\n",
      "OPUS_bible_uedin_v1\teng-kan\thttp://opus.nlpl.eu/download.php?f=bible-uedin/v1/moses/en-kn.txt.zip\n",
      "OPUS_Ubuntu_v14_10\teng-kan\thttp://opus.nlpl.eu/download.php?f=Ubuntu/v14.10/moses/en-kn.txt.zip\n",
      "OPUS_Tatoeba_v20190709\teng-kan\thttp://opus.nlpl.eu/download.php?f=Tatoeba/v20190709/moses/en-kn.txt.zip\n",
      "OPUS_QED_v2_0a\teng-kan\thttp://opus.nlpl.eu/download.php?f=QED/v2.0a/moses/en-kn.txt.zip\n",
      "OPUS_KDE4_v2\teng-kan\thttp://opus.nlpl.eu/download.php?f=KDE4/v2/moses/en-kn.txt.zip\n",
      "OPUS_GNOME_v1\teng-kan\thttp://opus.nlpl.eu/download.php?f=GNOME/v1/moses/en-kn.txt.zip\n",
      "JW300\teng-kan\thttp://opus.nlpl.eu/download.php?f=JW300/v1/xml/en-kn.xml.gz\n",
      "OPUS100v1_train\teng-kan\thttps://object.pouta.csc.fi/OPUS-100/v1.0/opus-100-corpus-v1.0.tar.gz\n",
      "OPUS100v1_dev\teng-kan\thttps://object.pouta.csc.fi/OPUS-100/v1.0/opus-100-corpus-v1.0.tar.gz\n",
      "OPUS100v1_test\teng-kan\thttps://object.pouta.csc.fi/OPUS-100/v1.0/opus-100-corpus-v1.0.tar.gz\n",
      "Total 11 entries\n"
     ]
    }
   ],
   "source": [
    "!mtdata list -l kan-eng  | cut -f1,2,3"
   ]
  },
  {
   "cell_type": "code",
   "execution_count": 2,
   "id": "272020e8",
   "metadata": {},
   "outputs": [
    {
     "name": "stdout",
     "output_type": "stream",
     "text": [
      "INFO:root:Loaded entries: Statmt.org:355  Paracrawl:59  Tilde:519  JoshuaIndianCoprus:29  GlobalVoices:812  UnitedNations:30  OPUS:53,321  OPUS_JW300:44,663  OPUS100:302  WikiMatrix:1,617  Other:7  Neulab_TEDTalksv1:4,455  Total:106,169\n",
      "usage: mtdata get [-h] -l L1-L2 [-tr [NAME [NAME ...]]]\n",
      "                  [-ts [NAME [NAME ...]]] [--merge | --no-merge] -o OUT\n",
      "\n",
      "optional arguments:\n",
      "  -h, --help            show this help message and exit\n",
      "  -l L1-L2, --langs L1-L2\n",
      "                        Language pairs; e.g.: deu-eng (default: None)\n",
      "  -tr [NAME [NAME ...]], --train [NAME [NAME ...]]\n",
      "                        Names of datasets separated by space, to be used for *training*.\n",
      "                            e.g. -tr news_commentary_v14 europarl_v9 .\n",
      "                            All these datasets gets concatenated into one big file. (default: None)\n",
      "  -ts [NAME [NAME ...]], --test [NAME [NAME ...]]\n",
      "                        Names of datasets separated by space, to be used for *testing*. \n",
      "                            e.g. \"-tt newstest2018_deen newstest2019_deen\".\n",
      "                            You may also use shell expansion if your shell supports it.\n",
      "                            e.g. \"-tt newstest201{8,9}_deen.\"  (default: None)\n",
      "  --merge               Merge train into single file (default: False)\n",
      "  --no-merge            Do not Merge train into single file (default: True)\n",
      "  -o OUT, --out OUT     Output directory name (default: None)\n"
     ]
    }
   ],
   "source": [
    "!mtdata get -h"
   ]
  },
  {
   "cell_type": "markdown",
   "id": "12499fe0",
   "metadata": {},
   "source": [
    "# MTData: Get Datasets"
   ]
  },
  {
   "cell_type": "code",
   "execution_count": 10,
   "id": "1dfb643d",
   "metadata": {},
   "outputs": [
    {
     "name": "stdout",
     "output_type": "stream",
     "text": [
      "INFO:root:Loaded entries: Statmt.org:355  Paracrawl:59  Tilde:519  JoshuaIndianCoprus:29  GlobalVoices:812  UnitedNations:30  OPUS:53,321  OPUS_JW300:44,663  OPUS100:302  WikiMatrix:1,617  Other:7  Neulab_TEDTalksv1:4,455  Total:106,169\n",
      "INFO:root:Local cache is at /Users/tg/.mtdata\n",
      "INFO:root:OPUS100v1_dev : found 917 segments and 0 errors\n",
      "INFO:root:OPUS100v1_test : found 918 segments and 0 errors\n",
      "INFO:root:pmindia_v1 : found 35232 segments and 0 errors\n",
      "INFO:root:OPUS100v1_train : found 14537 segments and 0 errors\n",
      "INFO:root:Going to merge 2 files as one train file\n",
      "INFO:root:Train stats:\n",
      "{\n",
      "  \"total\": 49769,\n",
      "  \"parts\": {\n",
      "    \"pmindia_v1-kan_eng\": 35232,\n",
      "    \"OPUS100v1_train-kan_eng\": 14537\n",
      "  }\n",
      "}\n",
      "INFO:root:Dataset is ready at /Users/tg/tmp/data-kan_eng\n",
      "INFO:root:mtdata args for reproducing this dataset:\n",
      " mtdata get -l kan-eng -tr pmindia_v1 OPUS100v1_train -ts OPUS100v1_dev OPUS100v1_test -o <out-dir>\n",
      "mtdata version 0.2.8\n",
      "\n"
     ]
    }
   ],
   "source": [
    "!mtdata get -l kan-eng -tr pmindia_v1 OPUS100v1_train --merge -ts OPUS100v1_dev OPUS100v1_test -o ~/tmp/data-kan_eng"
   ]
  },
  {
   "cell_type": "code",
   "execution_count": 23,
   "id": "c453c2d5",
   "metadata": {},
   "outputs": [
    {
     "name": "stdout",
     "output_type": "stream",
     "text": [
      "\u001b[01;34m/Users/tg/tmp/data-kan_eng\u001b[00m\n",
      "├── mtdata.signature.txt\n",
      "├── \u001b[01;34mtests\u001b[00m\n",
      "│   ├── OPUS100v1_dev-kan_eng.eng\n",
      "│   ├── OPUS100v1_dev-kan_eng.kan\n",
      "│   ├── OPUS100v1_test-kan_eng.eng\n",
      "│   └── OPUS100v1_test-kan_eng.kan\n",
      "├── \u001b[01;34mtrain-parts\u001b[00m\n",
      "│   ├── OPUS100v1_train-kan_eng.eng\n",
      "│   ├── OPUS100v1_train-kan_eng.kan\n",
      "│   ├── pmindia_v1-kan_eng.eng\n",
      "│   └── pmindia_v1-kan_eng.kan\n",
      "├── train.eng\n",
      "├── train.kan\n",
      "├── \u001b[01;31mtrain.meta.gz\u001b[00m\n",
      "└── train.stats.json\n",
      "\n",
      "2 directories, 13 files\n"
     ]
    }
   ],
   "source": [
    "!tree ~/tmp/data-kan_eng"
   ]
  },
  {
   "cell_type": "code",
   "execution_count": 12,
   "id": "692ea49a",
   "metadata": {},
   "outputs": [
    {
     "name": "stdout",
     "output_type": "stream",
     "text": [
      "usage: nlcodec [-h] [-v] [-i INP] [-tfs] [-o OUT] -m MODEL [-idx]\n",
      "               [-vs VOCAB_SIZE] [-l {char,word,bpe}] [-mf MIN_FREQ]\n",
      "               [-cv CHAR_COVERAGE] [-mce MIN_CO_EV]\n",
      "               {learn,encode,decode,estimate}\n",
      "\n",
      "nlcodec is a collection of encoding schemes for natural language sequences.\n",
      "nlcodec.db is a efficient storage and retrieval layer for integer sequences of\n",
      "varying lengths.\n",
      "\n",
      "positional arguments:\n",
      "  {learn,encode,decode,estimate}\n",
      "                        \"task\" or sub-command.\n",
      "                            \"learn\" - learns vocabulary. use --level and vocab_size for type and size \n",
      "                            \"encode\" - encodes a dataset \n",
      "                            \"decode\" - decodes an already encoded dataset\n",
      "                            \"estimate\" - estimates quality attributes of an encoding\n",
      "\n",
      "optional arguments:\n",
      "  -h, --help            show this help message and exit\n",
      "  -v, --version         show program's version number and exit\n",
      "  -i INP, --inp INP     Input file path (default: <_io.TextIOWrapper\n",
      "                        name='<stdin>' mode='r' encoding='UTF-8'>)\n",
      "  -tfs, --term-freqs    --inp is term frequencies Valid for task=learn. See\n",
      "                        nlcodec.term_freq to obtain them (default: False)\n",
      "  -o OUT, --out OUT     Output file path. Not valid for \"learn\" or \"estimate\"\n",
      "                        task (default: <_io.TextIOWrapper name='<stdout>'\n",
      "                        mode='w' encoding='UTF-8'>)\n",
      "  -m MODEL, --model MODEL\n",
      "                        Path to model aka vocabulary file (default: None)\n",
      "  -idx, --indices       Indices instead of strings. Valid for task=encode and\n",
      "                        task=decode (default: None)\n",
      "\n",
      "args for task=learn:\n",
      "  -vs VOCAB_SIZE, --vocab-size VOCAB_SIZE\n",
      "                        Vocabulary size. Valid only for task=learn. This is\n",
      "                        required for \"bpe\", but optional for \"word\" and \"char\"\n",
      "                        models, specifying it will trim the vocabulary at\n",
      "                        given top most frequent types. (default: -1)\n",
      "  -l {char,word,bpe}, --level {char,word,bpe}\n",
      "                        Encoding Level; Valid only for task=learn (default:\n",
      "                        None)\n",
      "  -mf MIN_FREQ, --min-freq MIN_FREQ\n",
      "                        Minimum frequency of types for considering inclusion\n",
      "                        in vocabulary. Types fewer than this frequency will be\n",
      "                        ignored. For --level=word or --level=bpe, freq is type\n",
      "                        freq and default is 1.for --level=char, characters\n",
      "                        fewer than this value will be excluded. default=20\n",
      "                        (default: None)\n",
      "  -cv CHAR_COVERAGE, --char-coverage CHAR_COVERAGE\n",
      "                        Character coverage for --level=char or --level=bpe\n",
      "                        (default: 0.9995)\n",
      "  -mce MIN_CO_EV, --min-co-ev MIN_CO_EV\n",
      "                        Minimum Co-evidence for BPE merge. Valid when\n",
      "                        --task=learn and --level=bpe (default: 95)\n",
      "\n",
      "Visit https://github.com/isi-nlp/nlcodec or https://isi-nlp.github.io/nlcodec/\n",
      "to learn more. You're currently using version 0.3.1 loaded from\n",
      "/Users/tg/miniconda3/envs/rtgdemo/lib/python3.7/site-packages/nlcodec\n"
     ]
    }
   ],
   "source": [
    "!nlcodec -h"
   ]
  },
  {
   "cell_type": "markdown",
   "id": "1dbdfe84",
   "metadata": {},
   "source": [
    "--- \n",
    "RTG has many tools: https://isi-nlp.github.io/rtg/#rtg-cli  \n",
    "One of the most used is `rtg-pipe`, which runs end-to-end pipeline:   \n",
    "  including `nlcodec` for vocabulary creation and NLDb for training data storage. "
   ]
  },
  {
   "cell_type": "code",
   "execution_count": 14,
   "id": "398947c5",
   "metadata": {},
   "outputs": [
    {
     "name": "stdout",
     "output_type": "stream",
     "text": [
      "[04-15 13:54:10] p21074 {__init__:53} INFO - rtg v0.5.0 from /Users/tg/miniconda3/envs/rtgdemo/lib/python3.7/site-packages\n",
      "[04-15 13:54:10] p21074 {__init__:45} INFO - DistribTorch setup()\n",
      "usage: rtg-pipe [-h] [-G] [-fp16] [--local_rank LOCAL_RANK]\n",
      "                [--master-port MASTER_PORT]\n",
      "                EXP_DIR [conf.yml]\n",
      "\n",
      "RTG Pipeline CLI\n",
      "\n",
      "positional arguments:\n",
      "  EXP_DIR               Working directory of experiment\n",
      "  conf.yml              Config File. By default <work_dir>/conf.yml is used\n",
      "\n",
      "optional arguments:\n",
      "  -h, --help            show this help message and exit\n",
      "  -G, --gpu-only        Crash if no GPU is available\n",
      "  -fp16, --fp16         Float 16\n",
      "  --local_rank LOCAL_RANK, --local-rank LOCAL_RANK\n",
      "                        Multi-GPU - Local rank\n",
      "  --master-port MASTER_PORT\n",
      "                        Master port (for multi-node SLURM jobs)\n"
     ]
    }
   ],
   "source": [
    "!rtg-pipe -h"
   ]
  },
  {
   "cell_type": "code",
   "execution_count": null,
   "id": "e333614f",
   "metadata": {},
   "outputs": [],
   "source": []
  },
  {
   "cell_type": "markdown",
   "id": "186050e8",
   "metadata": {},
   "source": [
    "# BLEU on OPUS100 Tests"
   ]
  },
  {
   "cell_type": "code",
   "execution_count": 26,
   "id": "808a499e",
   "metadata": {},
   "outputs": [
    {
     "data": {
      "text/html": [
       "\n",
       "        <iframe\n",
       "            width=\"1340\"\n",
       "            height=\"350\"\n",
       "            src=\"charts/BLEU-opus100.pdf\"\n",
       "            frameborder=\"0\"\n",
       "            allowfullscreen\n",
       "        ></iframe>\n",
       "        "
      ],
      "text/plain": [
       "<IPython.lib.display.IFrame at 0x7fd59e736ed0>"
      ]
     },
     "execution_count": 26,
     "metadata": {},
     "output_type": "execute_result"
    }
   ],
   "source": [
    "from IPython.display import IFrame\n",
    "IFrame(\"charts/BLEU-opus100.pdf\", width=1340, height=350)"
   ]
  },
  {
   "cell_type": "markdown",
   "id": "62928de0",
   "metadata": {},
   "source": [
    "---- \n",
    "\n",
    "# Docker Image: \n",
    "\n",
    "* https://hub.docker.com/repository/docker/tgowda/rtg-model \n"
   ]
  },
  {
   "cell_type": "code",
   "execution_count": null,
   "id": "75ac75d6",
   "metadata": {},
   "outputs": [],
   "source": [
    "%%bash \n",
    "\n",
    "IMAGE=tgowda/rtg-model:500toEng-v1\n",
    "\n",
    "# Without using a GPU; requires about 5 to 6GB CPU RAM\n",
    "docker run --rm -i -p 6060:6060 $IMAGE\n",
    "\n",
    "# Recommended: use GPU (e.g. device=0)\n",
    "docker run --gpus '\"device=0\"' --rm -i -p 6060:6060 $IMAGE"
   ]
  },
  {
   "cell_type": "markdown",
   "id": "92d32827",
   "metadata": {},
   "source": [
    "----\n",
    "# Demo \n",
    "\n",
    "* Go to http://rtg.isi.edu/many-eng/v1\n",
    "\n",
    "Paste any non-English text into source textbox, and click \"Translate\"\n",
    "```\n",
    "ರಾಜ್ಯದ ಜನ ಸರ್ಕಾರದ ನಿರ್ದೇಶನಗಳನ್ನು ಪಾಲನೆ ಮಾಡುವ ಮೂಲಕ ಕೋವಿಡ್ ನಿಯಂತ್ರಣಕ್ಕೆ ಮುಂದಾಗಬೇಕು. \n",
    "సాక్షి, అమరావతి: కృష్ణా పరీవాహక ప్రాంతం (బేసిన్‌)లో సరాసరి నీటి లభ్యత 3,144.42 టీఎంసీలని తాజాగా కేంద్ర జలసంఘం (సీడబ్ల్యూసీ) తేల్చింది.\n",
    "IPL 2021: विराट कोहली (Virat Kohli) की कप्तानी वाली रॉयल चैलेंजर्स बेंगलुरु (RCB) अब भी अपने पहले आईपीएल खिताब का इंतजार कर रही है.\n",
    "Bonne après-midi.\n",
    "Je suis ravi de vous rencontrer.  \n",
    "¡Hasta pronto!\n",
    "```\n"
   ]
  },
  {
   "cell_type": "code",
   "execution_count": 33,
   "id": "8e6f01da",
   "metadata": {},
   "outputs": [
    {
     "name": "stdout",
     "output_type": "stream",
     "text": [
      "{\n",
      "  \"source\": [\n",
      "    \"Comment allez @-@ vous ?\",\n",
      "    \"¡ Hasta pronto !\"\n",
      "  ],\n",
      "  \"translation\": [\n",
      "    \"How are you?\",\n",
      "    \"See you soon!\"\n",
      "  ]\n",
      "}\n"
     ]
    }
   ],
   "source": [
    "%%bash\n",
    "API=http://rtg.isi.edu/many-eng/v1/translate\n",
    "\n",
    "curl -s $API --data \"source=Comment allez-vous?\" --data \"source=¡Hasta pronto!\" | jq .\n"
   ]
  },
  {
   "cell_type": "code",
   "execution_count": 28,
   "id": "0e02dcc6",
   "metadata": {},
   "outputs": [
    {
     "name": "stdout",
     "output_type": "stream",
     "text": [
      "{\n",
      "  \"source\": [\n",
      "    \"Comment allez @-@ vous ?\",\n",
      "    \"¡ Hasta pronto !\"\n",
      "  ],\n",
      "  \"translation\": [\n",
      "    \"How are you?\",\n",
      "    \"See you soon!\"\n",
      "  ]\n",
      "}\n"
     ]
    }
   ],
   "source": [
    "%%bash\n",
    "# API also accepts input as JSON data\n",
    "API=http://rtg.isi.edu/many-eng/v1/translate\n",
    "curl -s -X POST $API -H \"Content-Type: application/json\" \\\n",
    "  --data '{\"source\":[\"Comment allez-vous?\", \"¡Hasta pronto!\"]}' | jq ."
   ]
  },
  {
   "cell_type": "markdown",
   "id": "7ee23a45",
   "metadata": {},
   "source": [
    "---- \n",
    "#  More \n",
    "\n",
    "RTG documentation : https://isi-nlp.github.io/rtg/\n",
    "\n",
    "* [Parent-child transfer](https://isi-nlp.github.io/rtg/#conf-parent-child) \n",
    "  * Download parent model from here: http://rtg.isi.edu/many-eng/models/ \n",
    "  * [Sample `conf.yml` files](https://github.com/thammegowda/006-many-to-eng/tree/master/lowres-xfer)\n",
    "* use [`rtg-decode`](https://isi-nlp.github.io/rtg/#rtg-decode) to translate a batch of documents\n",
    "* use [`rtg-serve`](https://isi-nlp.github.io/rtg/#_rtg_serve) to deploy model as a service"
   ]
  },
  {
   "cell_type": "code",
   "execution_count": null,
   "id": "4b981cae",
   "metadata": {},
   "outputs": [],
   "source": []
  }
 ],
 "metadata": {
  "kernelspec": {
   "display_name": "Python 3",
   "language": "python",
   "name": "python3"
  },
  "language_info": {
   "codemirror_mode": {
    "name": "ipython",
    "version": 3
   },
   "file_extension": ".py",
   "mimetype": "text/x-python",
   "name": "python",
   "nbconvert_exporter": "python",
   "pygments_lexer": "ipython3",
   "version": "3.7.10"
  }
 },
 "nbformat": 4,
 "nbformat_minor": 5
}
