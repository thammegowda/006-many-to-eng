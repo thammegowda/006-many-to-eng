{
 "cells": [
  {
   "cell_type": "markdown",
   "id": "621dc23a-a2b7-41d9-b55f-5ac99a63071b",
   "metadata": {
    "slideshow": {
     "slide_type": "slide"
    },
    "tags": []
   },
   "source": [
    "# 500-English Translation Demo\n",
    "\n",
    "**Thamme \"TG\" Gowda**  \n",
    "SARAL Team  \n",
    "USC Information Sciences Institute  \n",
    "\n",
    "http://rtg.isi.edu/many-eng"
   ]
  },
  {
   "cell_type": "markdown",
   "id": "13c5256a-f090-4cc2-9dd8-4101c7ef8d44",
   "metadata": {
    "slideshow": {
     "slide_type": "slide"
    },
    "tags": []
   },
   "source": [
    "# Overview\n",
    "\n",
    "* Our tools for machine translation\n",
    "  * `mtdata`: dataset catalogue and downloader\n",
    "  * `nlcodec`: vocabulary manager and training data storage\n",
    "  * `rtg`: pytorch based NMT toolkit\n",
    "\n",
    "* 500→English Translation\n",
    "  * Demo"
   ]
  },
  {
   "cell_type": "markdown",
   "id": "bb4406d3-ccb8-4ac1-87ac-55ccb7687cec",
   "metadata": {
    "slideshow": {
     "slide_type": "slide"
    },
    "tags": []
   },
   "source": [
    "# MTData\n",
    "\n",
    "*  Easy access to translation datasets\n",
    "* `pip install mtdata` https://github.com/thammegowda/mtdata/ \n",
    "* Unified interface to [OPUS, Statmt, Paracrawl, TEDTalks, ....](https://github.com/thammegowda/mtdata/#current-status)\n",
    "  * Parses XML, TMX, SGM, TSV etc\n",
    "  * Handles compression formats .gz .tar.gz|.tgz, .xz, .zip, \n",
    "* ISO 639-3 standard names and codes \n",
    "* Stores signature which helps in reproducing datasets\n",
    "\n",
    "_Special thanks to Kenneth Heafield for helping add more datasets to mtdata_"
   ]
  },
  {
   "cell_type": "markdown",
   "id": "77a70b98-c44b-4e43-af07-538364cf9792",
   "metadata": {
    "slideshow": {
     "slide_type": "slide"
    },
    "tags": []
   },
   "source": [
    "## ISO 639-3 \n",
    "All language ID/names are mapped to ISO 639-3\n",
    "```bash\n",
    "$ mtdata-iso german de deu ge ka kn iloko spa fas fa\n",
    "Input\tISO639_3\tName\n",
    "german\tdeu\tGerman\n",
    "de\tdeu\tGerman\n",
    "deu\tdeu\tGerman\n",
    "ge\thmj\tGe\n",
    "ka\tkat\tGeorgian\n",
    "kn\tkan\tKannada\n",
    "iloko\tilo\tIloko\n",
    "spa\tspa\tSpanish\n",
    "fas\tfas\tPersian\n",
    "fa\tfas\tPersian\n",
    "```"
   ]
  },
  {
   "cell_type": "markdown",
   "id": "71c9ff27-a96f-4c23-ab63-ae5eb7d42a5e",
   "metadata": {
    "slideshow": {
     "slide_type": "slide"
    },
    "tags": []
   },
   "source": [
    "# `mtdata list` \n",
    "\n",
    "List datasets for langauges of interest; for example, *Farsi-English*\n",
    "\n",
    "`$ mtdata list -l fas-eng | cut -f1,2`\n",
    "```\n",
    "2021-09-13 22:07:15 main.list_data:18 INFO:: Found 26\n",
    "cc_aligned\teng-fas\n",
    "OPUS_CCAligned_v1\teng-fas\n",
    "OPUS_GNOME_v1\teng-fas\n",
    "OPUS_GlobalVoices_v2018q4\teng-fas\n",
    "OPUS_KDE4_v2\teng-fas\n",
    "OPUS_OpenSubtitles_v2016\teng-fas\n",
    "OPUS_OpenSubtitles_v2018\teng-fas\n",
    "OPUS_QED_v2_0a\teng-fas\n",
    "OPUS_TED2020_v1\teng-fas\n",
    "OPUS_TEP_v1\teng-fas\n",
    "OPUS_Tanzil_v1\teng-fas\n",
    "OPUS_Ubuntu_v14_10\teng-fas\n",
    "OPUS_WikiMatrix_v1\teng-fas\n",
    "OPUS_Wikipedia_v1_0\teng-fas\n",
    "OPUS_infopankki_v1\teng-fas\n",
    "OPUS_tico19_v20201028\teng-fas\n",
    "OPUS_wikimedia_v20210402\teng-fas\n",
    "JW300\teng-fas\n",
    "OPUS100v1_train\teng-fas\n",
    "OPUS100v1_dev\teng-fas\n",
    "OPUS100v1_test\teng-fas\n",
    "WikiMatrix_v1\teng-fas\n",
    "neulab_tedtalksv1_train\teng-fas\n",
    "neulab_tedtalksv1_test\teng-fas\n",
    "neulab_tedtalksv1_dev\teng-fas\n",
    "ELRC_wikipedia_health\teng-fas\n",
    "```"
   ]
  },
  {
   "cell_type": "markdown",
   "id": "2da9d8e8-dba9-4d41-8b21-ed0c16fe6e60",
   "metadata": {
    "slideshow": {
     "slide_type": "slide"
    },
    "tags": []
   },
   "source": [
    "# `mtdata get`\n",
    "\n",
    "Easily obtain training and test datasets\n",
    "```bash\n",
    "mtdata get -l fas-eng --out fas-eng \\\n",
    "  --merge --train JW300 neulab_tedtalksv1_train \\\n",
    "          --test neulab_tedtalksv1_{dev,test}\n",
    "```\n",
    "\n",
    "```shell\n",
    "$ tree fas-eng\n",
    "fas-eng\n",
    "├── mtdata.signature.txt\n",
    "├── tests\n",
    "│   ├── neulab_tedtalksv1_dev-fas_eng.eng\n",
    "│   ├── neulab_tedtalksv1_dev-fas_eng.fas\n",
    "│   ├── neulab_tedtalksv1_test-fas_eng.eng\n",
    "│   └── neulab_tedtalksv1_test-fas_eng.fas\n",
    "├── train-parts\n",
    "│   ├── JW300-fas_eng.eng\n",
    "│   ├── JW300-fas_eng.fas\n",
    "│   ├── neulab_tedtalksv1_train-fas_eng.eng\n",
    "│   └── neulab_tedtalksv1_train-fas_eng.fas\n",
    "├── train.eng\n",
    "├── train.fas\n",
    "├── train.meta.gz\n",
    "└── train.stats.json\n",
    "```"
   ]
  },
  {
   "cell_type": "markdown",
   "id": "2930c14f-01bc-46c4-a4e8-42452bd20576",
   "metadata": {
    "slideshow": {
     "slide_type": "subslide"
    },
    "tags": []
   },
   "source": [
    "```bash\n",
    "$ cat fas-eng/mtdata.signature.txt\n",
    "mtdata get -l fas-eng -tr JW300 neulab_tedtalksv1_train -ts neulab_tedtalksv1_dev neulab_tedtalksv1_test -o <out-dir>\n",
    "mtdata version 0.2.10\n",
    "```\n",
    "\n",
    "```bash\n",
    "$ cat fas-eng/train.stats.json\n",
    "```\n",
    "```json\n",
    "{\n",
    "  \"total\": 435104,\n",
    "  \"parts\": {\n",
    "    \"JW300-fas_eng\": 284138,\n",
    "    \"neulab_tedtalksv1_train-fas_eng\": 150966\n",
    "  }\n",
    "}\n",
    "```"
   ]
  },
  {
   "cell_type": "markdown",
   "id": "e1b85224-29b7-48cd-868c-1bc7a9c4db47",
   "metadata": {
    "slideshow": {
     "slide_type": "subslide"
    },
    "tags": []
   },
   "source": [
    "# View BibTEX Citation \n",
    "\n",
    "```\n",
    "$ mtdata list -l fas-eng --full \\\n",
    "   -n JW300 neulab_tedtalksv1_train\n",
    "\n",
    "\n",
    "JW300 eng-fas\n",
    "@inproceedings{agic-vulic-2019-jw300,\n",
    "    title = \"{JW}300: A Wide-Coverage Parallel Corpus for Low-Resource Languages\",\n",
    "    author = \"Agi{'c}, {\u000b",
    "{Z}}eljko  and\n",
    "      Vuli{'c}, Ivan\",\n",
    "    booktitle = \"Proceedings of the 57th Annual Meeting of the Association for Computational Linguistics\",\n",
    "    month = jul,\n",
    "    year = \"2019\",\n",
    "    address = \"Florence, Italy\",\n",
    "    publisher = \"Association for Computational Linguistics\",\n",
    "    url = \"https://www.aclweb.org/anthology/P19-1310\",\n",
    "    doi = \"10.18653/v1/P19-1310\",\n",
    "    pages = \"3204--3210\",\n",
    "}\n",
    "@inproceedings{tiedemann2012parallel,\n",
    "  title={Parallel Data, Tools and Interfaces in OPUS.},\n",
    "  author={Tiedemann, J{\"o}rg},\n",
    "  booktitle={Lrec},\n",
    "  volume={2012},\n",
    "  pages={2214--2218},\n",
    "  year={2012}\n",
    "}\n",
    "\n",
    "neulab_tedtalksv1_train\teng-fas\n",
    "@inproceedings{Ye2018WordEmbeddings,\n",
    "    author = \"Ye, Qi and Devendra, Sachan and Matthieu, Felix and Sarguna, Padmanabhan and Graham, Neubig\",\n",
    "    title = \"When and Why are pre-trained word embeddings useful for Neural Machine Translation\",\n",
    "    booktitle = \"HLT-NAACL\",\n",
    "    year = \"2018\"\n",
    "}\n",
    "```"
   ]
  },
  {
   "cell_type": "markdown",
   "id": "51c886f4-fc23-4cc8-b4dd-4166687b99f3",
   "metadata": {
    "slideshow": {
     "slide_type": "slide"
    },
    "tags": []
   },
   "source": [
    "# NLCodec\n",
    "\n",
    "* Vocabulary types: word, char, BPE subword, ...\n",
    "* (Optional) pyspark backend for large datasets\n",
    "* https://isi-nlp.github.io/nlcodec/  `pip install nlcodec`\n",
    "* `nlcodec [learn|encode|decode]`\n",
    "* `nlcodec-db`: Efficient storage of large scale text datasets\n",
    "  * adapts datatype based on vocabulary size e.g., 1-byte for vocab_size < 256, and 2-byte for vocab_size upto 65,536\n",
    "  * Supports parallel writes by Spark, and parallel reads during distributed training"
   ]
  },
  {
   "cell_type": "markdown",
   "id": "1bc6a6ed-8a6d-436e-8fa3-16db10c60121",
   "metadata": {
    "slideshow": {
     "slide_type": "slide"
    },
    "tags": []
   },
   "source": [
    "# Reader Translator Generator (RTG)\n",
    "\n",
    "* NMT toolkit based on Pytorch\n",
    "* https://isi-nlp.github.io/rtg/    `pip install rtg`\n",
    "* Reproducible experiments, stores all hyper params in `conf.yml` \n",
    "* All necessary ingredients for NMT research -> production\n",
    "  * Flexible vocabulary options: `sentencepiece`, `nlcodec`, shared or separate vocabulary\n",
    "  * Distibuted training, mixed-precision training, gradient accumulation,\n",
    "  * Beam search, length penalty, ensembling, \n",
    "  * Transfer learning, weights freezing, ...  "
   ]
  },
  {
   "cell_type": "markdown",
   "id": "a79e734f-ff9a-4c38-ab5b-40e1385d72bb",
   "metadata": {
    "slideshow": {
     "slide_type": "slide"
    },
    "tags": []
   },
   "source": [
    "# 500→English Translation\n",
    "\n",
    "* `mtdata`: downloads datasets\n",
    "   * [Data selection](https://github.com/thammegowda/006-many-to-eng/blob/master/data/dataset-selection.tsv)\n",
    "   * [Statistics](http://rtg.isi.edu/many-eng/data-v1.html)\n",
    "* `nlcodec`: creates vocabulary, and encodes and stores traning sentences\n",
    "* `rtg`: trains (multilingual) NMT models\n",
    "  * Models released to [DockerHub](https://hub.docker.com/repository/docker/tgowda/rtg-model)\n",
    "* Demo and more info http://rtg.isi.edu/many-eng\n",
    "\n",
    "  \n",
    "> *Caveat:* Since the language identifier is not used, translation of short phrases and words without suffcient context might produce suboptimal translation quality. We strongly recommend translation of full sentences (i.e., words in context) at a time."
   ]
  },
  {
   "cell_type": "markdown",
   "id": "c03738da-4e68-4b2d-a32b-53cc0f9af384",
   "metadata": {
    "slideshow": {
     "slide_type": "slide"
    },
    "tags": []
   },
   "source": [
    "# Examples\n",
    "Copy paste these to [the web app](http://rtg.isi.edu/many-eng/v1):\n",
    "```\n",
    "प्रधानमंत्री ने शिकागो में स्वामी विवेकानंद के 1893 के प्रतिष्ठित भाषण को याद किया\n",
    "శికాగో లో1893వ సంవత్సరం లో స్వామి వివేకానంద ప్రతిష్ఠిత ఉపన్యాసాన్ని స్మరించుకొన్న ప్రధానమంత్రి \n",
    "ಸ್ವಾಮಿ ವಿವೇಕಾನಂದರ 1893ರ ಷಿಕಾಗೊ ಐತಿಹಾಸಿಕ ಭಾಷಣ; ಪ್ರಧಾನ ಮಂತ್ರಿ ಸ್ಮರಣೆ\n",
    "PM recalls Swami Vivekananda’s iconic 1893 speech at Chicago\n",
    "\n",
    "Мы же можем вместе играть в крикет, мы можем дружить.\n",
    "We can play cricket together, we can be friends.\n",
    "\n",
    "فرانس کی طرف سے جیکوئس کارٹیئر 1534 میں اور ڈی چیمپلین 1603 میں آئے۔  \n",
    "From France, Jacques Cartier in 1534 and De Champlain came in 1603\n",
    "\n",
    "Δεν μπορώ να επιτρέψω στο εξάχρονο παιδί να καθορίσει τη ζωή μου.\n",
    "I can't let that six-year-old keep dictating my life anymore.\n",
    "\n",
    "עם עזיבתו של מר תומס, זה היה כמו שענן הורם מעל מנספילד פארק.\n",
    "With Sir Thomas's departure, it was as if a cloud had been lifted from Mansfield Park.\n",
    "\n",
    "குற்றம் சாட்டப்பட்ட 20 வயது நபர் திங்கட்கிழமையன்று கைது செய்யப்பட்டதாக கேஇசட்என் காவல்துறை செய்தித் தொடர்பாளர் கர்னல் தெம்பெகா எம்பில் கூறுகிறார்.\n",
    "According to KZN police spoke sperson Colonel Thembeka Mbele, the 20-year-old accused was arrested on Monday.\n",
    "\n",
    "থাইল্যান্ড থেকে এক সমর্থক পিকচার মেসেজ (ছবির বার্তা) পাঠিয়েছে কম্বোডিয়া থেকে মার্গারেট পসনেট এই বার্তা ওয়েবসাইটের জন্য পাঠিয়েছে।\n",
    "Picture message sent by a supporter from Thailand Margaret Posnett from Cambodia texted this message on the website\n",
    "```"
   ]
  },
  {
   "cell_type": "markdown",
   "id": "8c52eb66-3b44-442f-8579-8e72f991ee3a",
   "metadata": {
    "slideshow": {
     "slide_type": "slide"
    },
    "tags": []
   },
   "source": [
    "# Thanks\n",
    "\n",
    "\n",
    "<sub><sup>`mtdata` downloads and prepares public datasets. We do not host or distribute these datasets, vouch for their quality or fairness, or make any claims regarding license to use these datasets. It is your responsibility to determine whether you have permission to use the dataset under the dataset's license. We request all the users of this tool to cite the original creators of the datsets, which maybe obtained from `mtdata list -n <NAME> -l <L1-L2> -full` .   \n",
    " If you're a dataset owner and wish to update any part of it (description, citation, etc.), or do not want your dataset to be included in this library, please get in touch through a GitHub issue.</sup></sub> Thanks for your contribution to the machine learning and natural language processing community!\n"
   ]
  },
  {
   "cell_type": "code",
   "execution_count": null,
   "id": "5554c40c-f292-475b-a45c-f33e85574ba4",
   "metadata": {},
   "outputs": [],
   "source": []
  }
 ],
 "metadata": {
  "kernelspec": {
   "display_name": "Python 3 (ipykernel)",
   "language": "python",
   "name": "python3"
  },
  "language_info": {
   "codemirror_mode": {
    "name": "ipython",
    "version": 3
   },
   "file_extension": ".py",
   "mimetype": "text/x-python",
   "name": "python",
   "nbconvert_exporter": "python",
   "pygments_lexer": "ipython3",
   "version": "3.9.6"
  }
 },
 "nbformat": 4,
 "nbformat_minor": 5
}
